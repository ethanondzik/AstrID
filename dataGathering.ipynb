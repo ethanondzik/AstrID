{
 "cells": [
  {
   "cell_type": "markdown",
   "metadata": {},
   "source": [
    "# **AstrID:**  *data gathering*"
   ]
  },
  {
   "cell_type": "code",
   "execution_count": null,
   "metadata": {},
   "outputs": [],
   "source": [
    "# Import custom functions to extract Image arrays and Pixel Mask arrays from our created fits files dataset\n",
    "from dataGathering import extractImageArray, extractPixelMaskArray, extract_star_catalog\n",
    "from dataGathering import getStarData, getImagePlot, getPixelMaskPlot\n",
    "from dataGathering import displayRawImage, displayRawPixelMask, displayImagePlot, displayPixelMaskPlot, displayPixelMaskOverlayPlot\n",
    "from dataGathering import importDataset"
   ]
  },
  {
   "cell_type": "markdown",
   "metadata": {},
   "source": [
    "## Getting Data for Training the Model\n",
    "\n",
    "The `getStarData` function is a crucial part of our data preparation pipeline. It is responsible for generating and saving FITS files that contain both image data and star catalog data. These FITS files are then used to train our model. Below, we explain the functionality of the `getStarData` function and how it is used to prepare the dataset for training and validation.\n",
    "\n",
    "### Functionality of `getStarData`\n",
    "\n",
    "\n",
    "\n",
    "The `getStarData` function performs the following steps:\n",
    "\n",
    "1. **Directory Creation**:\n",
    "   - Creates a new directory named `data` if it does not already exist. This directory will store the generated FITS files.\n",
    "\n",
    "2. **Coordinate Generation**:\n",
    "   - Generates random coordinates (RA and Dec) while avoiding the galactic plane to ensure a diverse set of sky regions.\n",
    "\n",
    "3. **Image Data Fetching**:\n",
    "   - Uses the `SkyView` service to fetch image data from the DSS survey for the generated coordinates. The image data is saved as a FITS file.\n",
    "\n",
    "4. **Star Catalog Fetching**:\n",
    "   - Uses the `Vizier` service to fetch star catalog data for the same coordinates. The star catalog data is appended to the FITS file as a binary table HDU.\n",
    "\n",
    "5. **Pixel Mask Creation**:\n",
    "   - Creates a pixel mask indicating the positions of stars in the image. The pixel mask is saved as an additional HDU in the FITS file.\n",
    "\n",
    "6. **Star Overlay Plot**:\n",
    "   - Generates a plot of the image with star positions overlaid. This plot is saved as an image file and then converted to FITS format, appended to the original FITS file.\n"
   ]
  },
  {
   "cell_type": "markdown",
   "metadata": {},
   "source": [
    "\n",
    "#### Using `getStarData` to Prepare the Dataset\n",
    "\n",
    "To prepare the dataset for training the model, we use the `getStarData` function with the parameter `'data'`. This generates a set of FITS files containing image data, star catalog data, and pixel masks. These files are stored in the [fits](data/fits/) directory.\n",
    "\n",
    "```python\n",
    "# Generate training data\n",
    "getStarData(catalog_type='II/246', iterations=250, filename='data')\n",
    "```\n"
   ]
  },
  {
   "cell_type": "code",
   "execution_count": null,
   "metadata": {},
   "outputs": [],
   "source": [
    "getStarData('II/246', 250, 'data')"
   ]
  },
  {
   "cell_type": "markdown",
   "metadata": {},
   "source": [
    "\n",
    "For validation purposes, we use the `getStarData` function with the filename parameter `'validate'`. This generates a separate set of FITS files for validation, ensuring that the files have the name `validate0.fits` for the [validateModel.ipynb](validateModel.ipynb) notebook.\n",
    "\n",
    "```python\n",
    "# Generate validation data\n",
    "getStarData(catalog_type='II/246', iterations=50, filename='validate')\n",
    "```\n"
   ]
  },
  {
   "cell_type": "code",
   "execution_count": null,
   "metadata": {},
   "outputs": [],
   "source": [
    "getStarData('II/246', 50, 'validate')"
   ]
  },
  {
   "cell_type": "markdown",
   "metadata": {},
   "source": [
    "\n",
    "#### Summary\n",
    "\n",
    "The `getStarData` function is essential for generating the FITS files that form the basis of our training and validation datasets. By fetching image data and star catalog data, and creating pixel masks, it ensures that our model has the necessary data to learn and validate its performance. The generated FITS files are then used in the [trainModel.ipynb](trainModel.ipynb) and [validateModel.ipynb](validateModel.ipynb) notebooks to train and validate the model, respectively."
   ]
  },
  {
   "cell_type": "markdown",
   "metadata": {},
   "source": [
    "### Importing Images and Star Data from the Dataset\n",
    "\n",
    "In this section, we will import the images, masks, and star data from our prepared dataset using the `importDataset` function. This function reads the FITS files from the specified directory and extracts the necessary data for training our model. We will also display the key functions from the [`dataGathering`](dataGathering.py) module that are used in this process.\n",
    "\n",
    "### Major Functionality of the `dataGathering` Module\n",
    "\n",
    "The [`dataGathering`](dataGathering.py) module contains several important functions that facilitate the preparation and visualization of our dataset. Below, we provide an overview of the major functionalities:\n",
    "\n",
    "1. **Data Extraction Functions**:\n",
    "   - `extractImageArray`: Extracts image data from FITS files.\n",
    "   - `extractPixelMaskArray`: Extracts pixel mask data from FITS files.\n",
    "   - `extract_star_catalog`: Extracts star catalog data from FITS files.\n",
    "\n",
    "2. **Data Import Function**:\n",
    "   - `importDataset`: Imports the dataset by reading FITS files from a specified directory and extracting images, masks, and star data.\n",
    "\n",
    "3. **Visualization Functions**:\n",
    "   - `getImagePlot`: Generates a plot of the image data.\n",
    "   - `getPixelMaskPlot`: Generates a plot of the pixel mask data.\n",
    "   - `displayRawImage`: Displays the raw image data.\n",
    "   - `displayRawPixelMask`: Displays the raw pixel mask data.\n",
    "   - `displayImagePlot`: Displays the image plot.\n",
    "   - `displayPixelMaskPlot`: Displays the pixel mask plot.\n",
    "   - `displayPixelMaskOverlayPlot`: Displays an overlay plot of the image and pixel mask.\n",
    "\n",
    "4. **Star Data Functions**:\n",
    "   - `getStarData`: Generates and saves FITS files containing image data and star catalog data.\n",
    "   - `importDataset`: Imports the dataset by reading FITS files from a specified directory and extracting images, masks, and star data.\n",
    "\n",
    "These functions work together to streamline the process of preparing and visualizing our dataset, ensuring that we have high-quality data for training and validating our model."
   ]
  },
  {
   "cell_type": "markdown",
   "metadata": {},
   "source": [
    "---\n",
    "### Now the data can be retrieved using the below function:"
   ]
  },
  {
   "cell_type": "code",
   "execution_count": null,
   "metadata": {},
   "outputs": [],
   "source": [
    "# Create images and masks arrays lists\n",
    "images = []\n",
    "masks = []\n",
    "\n",
    "# Create df to store the star data inside each fits file\n",
    "star_data = []\n",
    "\n",
    "# Createa a list of all the fits files in the dataset\n",
    "fits_files = []\n",
    "\n",
    "images, masks, star_data, fits_files = importDataset(dataset_path='data/fits/', dataset_name='data')"
   ]
  }
 ],
 "metadata": {
  "kernelspec": {
   "display_name": ".venv",
   "language": "python",
   "name": "python3"
  },
  "language_info": {
   "codemirror_mode": {
    "name": "ipython",
    "version": 3
   },
   "file_extension": ".py",
   "mimetype": "text/x-python",
   "name": "python",
   "nbconvert_exporter": "python",
   "pygments_lexer": "ipython3",
   "version": "3.10.15"
  }
 },
 "nbformat": 4,
 "nbformat_minor": 2
}
