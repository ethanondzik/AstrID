{
 "cells": [
  {
   "cell_type": "code",
   "execution_count": null,
   "metadata": {},
   "outputs": [],
   "source": [
    "import sys\n",
    "import os\n",
    "import numpy as np\n",
    "import cv2\n",
    "import matplotlib.pyplot as plt\n",
    "from matplotlib.patches import Circle\n",
    "from matplotlib.legend_handler import HandlerPatch\n",
    "from tensorflow.keras.models import load_model\n",
    "from tensorflow.keras import backend as K\n",
    "import tensorflow as tf\n"
   ]
  },
  {
   "cell_type": "code",
   "execution_count": 6,
   "metadata": {},
   "outputs": [],
   "source": [
    "def extract_star_predictions(prediction, threshold=0.4):\n",
    "    # Normalize the prediction array to be between 0 and 1\n",
    "    prediction = (prediction - prediction.min()) / (prediction.max() - prediction.min())\n",
    "\n",
    "    # Ensure the prediction array is 2D\n",
    "    if prediction.ndim == 3:\n",
    "        prediction = prediction[:, :, 0]\n",
    "\n",
    "    # Threshold the prediction array to get the star locations\n",
    "    stars = np.argwhere(prediction > threshold)\n",
    "\n",
    "    # Create a list to store the star data\n",
    "    star_data = []\n",
    "\n",
    "    # Create a prediction mask of the same shape as the prediction array\n",
    "    prediction_mask = np.zeros_like(prediction, dtype=np.uint8)\n",
    "\n",
    "    # Iterate over the star locations and add them to the star data list and prediction mask\n",
    "    for star in stars:\n",
    "        y, x = star\n",
    "        star_data.append((x, y))\n",
    "        prediction_mask[y, x] = 1\n",
    "\n",
    "    return star_data, prediction_mask"
   ]
  },
  {
   "cell_type": "code",
   "execution_count": 7,
   "metadata": {},
   "outputs": [],
   "source": [
    "def plot_image_mask_prediction_overlay(image, test_image, model, threshold=0.4):\n",
    "    pred_star_data, prediction_mask = extract_star_predictions(model.predict(np.expand_dims(test_image, axis=0))[0], threshold=threshold)\n",
    "    print(np.count_nonzero(prediction_mask))\n",
    "\n",
    "\n",
    "    fig = plt.figure(figsize=(10, 10))\n",
    "    ax = fig.add_subplot(111)\n",
    "\n",
    "    # Plot the image\n",
    "    ax.imshow(image, cmap='gray', origin='lower')\n",
    "\n",
    "    # Draw red circles on the image for star predictions\n",
    "    x_dim, y_dim = image.shape\n",
    "\n",
    "    # Pixel-mask of stars\n",
    "    pixel_mask = np.zeros((x_dim, y_dim))\n",
    "\n",
    "    print('Drawing')  # DEBUG\n",
    "\n",
    "    for star in pred_star_data:\n",
    "        pixel_coords = star\n",
    "        # Ensure the pixel coordinates are within bounds\n",
    "        x, y = int(np.round(pixel_coords[0])), int(np.round(pixel_coords[1]))\n",
    "        if 0 <= x < x_dim and 0 <= y < y_dim:\n",
    "            pixel_mask[x][y] = 1\n",
    "\n",
    "        Drawing_colored_circle = plt.Circle((pixel_coords[0], pixel_coords[1]), 4, fill=False, edgecolor='red', linewidth=0.2)\n",
    "        ax.add_artist(Drawing_colored_circle)\n",
    "\n",
    "    ax.set_title(f'{\"Image with Star Prediction Overlay\"}')\n",
    "    ax.set_xlabel('X')\n",
    "    ax.set_ylabel('Y')\n",
    "    ax.grid(color='white', ls='dotted')\n",
    "\n",
    "    # Add legend\n",
    "    def make_legend_circle(legend, orig_handle, xdescent, ydescent, width, height, fontsize):\n",
    "        return Circle((width / 2, height / 2), 0.25 * height, fill=False, edgecolor=orig_handle.get_edgecolor(), linewidth=orig_handle.get_linewidth())\n",
    "\n",
    "\n",
    "    # Display a legend for the circles\n",
    "    blue_circle = Circle((0, 0), 1, fill=False, edgecolor='blue', linewidth=1)\n",
    "    red_circle = Circle((0, 0), 1, fill=False, edgecolor='red', linewidth=1)\n",
    "    ax.legend([blue_circle, red_circle], ['Star Location', 'Star Prediction'], loc='upper right', handler_map={Circle: HandlerPatch(patch_func=make_legend_circle)})\n",
    "\n",
    "\n",
    "    plt.show()"
   ]
  },
  {
   "cell_type": "code",
   "execution_count": 13,
   "metadata": {},
   "outputs": [],
   "source": [
    "image_path = \"image.png\"\n",
    "\n",
    "# Load the image\n",
    "image = cv2.imread(image_path, cv2.IMREAD_GRAYSCALE)\n"
   ]
  },
  {
   "cell_type": "code",
   "execution_count": null,
   "metadata": {},
   "outputs": [],
   "source": [
    "# Load the trained model\n",
    "saved_models_path = '../models/saved_models/'\n",
    "model_files = [file for file in os.listdir(saved_models_path) if file.endswith('.keras')]\n",
    "model_files = sorted(model_files)\n",
    "model_choice = model_files[-1]\n",
    "model = load_model(os.path.join(saved_models_path, model_choice))"
   ]
  },
  {
   "cell_type": "markdown",
   "metadata": {},
   "source": []
  },
  {
   "cell_type": "code",
   "execution_count": 14,
   "metadata": {},
   "outputs": [],
   "source": [
    "\n",
    "# Expand dimensions to match the model input\n",
    "stacked_image = np.array(np.stack([image, image, image], axis=-1))\n",
    "image_input = np.array(stacked_image)\n"
   ]
  },
  {
   "cell_type": "code",
   "execution_count": 15,
   "metadata": {},
   "outputs": [
    {
     "name": "stdout",
     "output_type": "stream",
     "text": [
      "GPU is available\n"
     ]
    },
    {
     "ename": "ValueError",
     "evalue": "in user code:\n\n    File \"/home/chris/github/AstrID/.venv/lib/python3.10/site-packages/keras/src/engine/training.py\", line 2341, in predict_function  *\n        return step_function(self, iterator)\n    File \"/home/chris/github/AstrID/.venv/lib/python3.10/site-packages/keras/src/engine/training.py\", line 2327, in step_function  **\n        outputs = model.distribute_strategy.run(run_step, args=(data,))\n    File \"/home/chris/github/AstrID/.venv/lib/python3.10/site-packages/keras/src/engine/training.py\", line 2315, in run_step  **\n        outputs = model.predict_step(data)\n    File \"/home/chris/github/AstrID/.venv/lib/python3.10/site-packages/keras/src/engine/training.py\", line 2283, in predict_step\n        return self(x, training=False)\n    File \"/home/chris/github/AstrID/.venv/lib/python3.10/site-packages/keras/src/utils/traceback_utils.py\", line 70, in error_handler\n        raise e.with_traceback(filtered_tb) from None\n    File \"/home/chris/github/AstrID/.venv/lib/python3.10/site-packages/keras/src/engine/input_spec.py\", line 298, in assert_input_compatibility\n        raise ValueError(\n\n    ValueError: Input 0 of layer \"model\" is incompatible with the layer: expected shape=(None, 512, 512, 3), found shape=(32, 512, 3)\n",
     "output_type": "error",
     "traceback": [
      "\u001b[0;31m---------------------------------------------------------------------------\u001b[0m",
      "\u001b[0;31mValueError\u001b[0m                                Traceback (most recent call last)",
      "Cell \u001b[0;32mIn[15], line 8\u001b[0m\n\u001b[1;32m      5\u001b[0m     tf\u001b[38;5;241m.\u001b[39mconfig\u001b[38;5;241m.\u001b[39mexperimental\u001b[38;5;241m.\u001b[39mreset_memory_stats(\u001b[38;5;124m'\u001b[39m\u001b[38;5;124mGPU:0\u001b[39m\u001b[38;5;124m'\u001b[39m)\n\u001b[1;32m      7\u001b[0m \u001b[38;5;66;03m# Make prediction\u001b[39;00m\n\u001b[0;32m----> 8\u001b[0m prediction \u001b[38;5;241m=\u001b[39m \u001b[43mmodel\u001b[49m\u001b[38;5;241;43m.\u001b[39;49m\u001b[43mpredict\u001b[49m\u001b[43m(\u001b[49m\u001b[43mimage_input\u001b[49m\u001b[43m)\u001b[49m\n\u001b[1;32m     10\u001b[0m \u001b[38;5;66;03m# Extract star predictions\u001b[39;00m\n\u001b[1;32m     11\u001b[0m star_data, prediction_mask \u001b[38;5;241m=\u001b[39m extract_star_predictions(prediction)\n",
      "File \u001b[0;32m~/github/AstrID/.venv/lib/python3.10/site-packages/keras/src/utils/traceback_utils.py:70\u001b[0m, in \u001b[0;36mfilter_traceback.<locals>.error_handler\u001b[0;34m(*args, **kwargs)\u001b[0m\n\u001b[1;32m     67\u001b[0m     filtered_tb \u001b[38;5;241m=\u001b[39m _process_traceback_frames(e\u001b[38;5;241m.\u001b[39m__traceback__)\n\u001b[1;32m     68\u001b[0m     \u001b[38;5;66;03m# To get the full stack trace, call:\u001b[39;00m\n\u001b[1;32m     69\u001b[0m     \u001b[38;5;66;03m# `tf.debugging.disable_traceback_filtering()`\u001b[39;00m\n\u001b[0;32m---> 70\u001b[0m     \u001b[38;5;28;01mraise\u001b[39;00m e\u001b[38;5;241m.\u001b[39mwith_traceback(filtered_tb) \u001b[38;5;28;01mfrom\u001b[39;00m \u001b[38;5;28;01mNone\u001b[39;00m\n\u001b[1;32m     71\u001b[0m \u001b[38;5;28;01mfinally\u001b[39;00m:\n\u001b[1;32m     72\u001b[0m     \u001b[38;5;28;01mdel\u001b[39;00m filtered_tb\n",
      "File \u001b[0;32m/tmp/__autograph_generated_filejmlqef6e.py:15\u001b[0m, in \u001b[0;36mouter_factory.<locals>.inner_factory.<locals>.tf__predict_function\u001b[0;34m(iterator)\u001b[0m\n\u001b[1;32m     13\u001b[0m \u001b[38;5;28;01mtry\u001b[39;00m:\n\u001b[1;32m     14\u001b[0m     do_return \u001b[38;5;241m=\u001b[39m \u001b[38;5;28;01mTrue\u001b[39;00m\n\u001b[0;32m---> 15\u001b[0m     retval_ \u001b[38;5;241m=\u001b[39m ag__\u001b[38;5;241m.\u001b[39mconverted_call(ag__\u001b[38;5;241m.\u001b[39mld(step_function), (ag__\u001b[38;5;241m.\u001b[39mld(\u001b[38;5;28mself\u001b[39m), ag__\u001b[38;5;241m.\u001b[39mld(iterator)), \u001b[38;5;28;01mNone\u001b[39;00m, fscope)\n\u001b[1;32m     16\u001b[0m \u001b[38;5;28;01mexcept\u001b[39;00m:\n\u001b[1;32m     17\u001b[0m     do_return \u001b[38;5;241m=\u001b[39m \u001b[38;5;28;01mFalse\u001b[39;00m\n",
      "\u001b[0;31mValueError\u001b[0m: in user code:\n\n    File \"/home/chris/github/AstrID/.venv/lib/python3.10/site-packages/keras/src/engine/training.py\", line 2341, in predict_function  *\n        return step_function(self, iterator)\n    File \"/home/chris/github/AstrID/.venv/lib/python3.10/site-packages/keras/src/engine/training.py\", line 2327, in step_function  **\n        outputs = model.distribute_strategy.run(run_step, args=(data,))\n    File \"/home/chris/github/AstrID/.venv/lib/python3.10/site-packages/keras/src/engine/training.py\", line 2315, in run_step  **\n        outputs = model.predict_step(data)\n    File \"/home/chris/github/AstrID/.venv/lib/python3.10/site-packages/keras/src/engine/training.py\", line 2283, in predict_step\n        return self(x, training=False)\n    File \"/home/chris/github/AstrID/.venv/lib/python3.10/site-packages/keras/src/utils/traceback_utils.py\", line 70, in error_handler\n        raise e.with_traceback(filtered_tb) from None\n    File \"/home/chris/github/AstrID/.venv/lib/python3.10/site-packages/keras/src/engine/input_spec.py\", line 298, in assert_input_compatibility\n        raise ValueError(\n\n    ValueError: Input 0 of layer \"model\" is incompatible with the layer: expected shape=(None, 512, 512, 3), found shape=(32, 512, 3)\n"
     ]
    }
   ],
   "source": [
    "\n",
    "# Check for GPU availability\n",
    "if len(tf.config.list_physical_devices('GPU')) > 0:\n",
    "    print(\"GPU is available\")\n",
    "    K.clear_session()\n",
    "    tf.config.experimental.reset_memory_stats('GPU:0')\n",
    "\n",
    "# Make prediction\n",
    "prediction = model.predict(image_input)\n",
    "\n",
    "# Extract star predictions\n",
    "star_data, prediction_mask = extract_star_predictions(prediction)\n",
    "\n",
    "# Find contours of the prediction mask\n",
    "contours, _ = cv2.findContours(prediction_mask, cv2.RETR_EXTERNAL, cv2.CHAIN_APPROX_SIMPLE)\n",
    "\n",
    "# Draw red circles around the predicted areas on the original image\n",
    "output_image = cv2.cvtColor(image, cv2.COLOR_GRAY2BGR)\n",
    "for contour in contours:\n",
    "    (x, y), radius = cv2.minEnclosingCircle(contour)\n",
    "    center = (int(x), int(y))\n",
    "    radius = int(radius)\n",
    "    cv2.circle(output_image, center, radius, (0, 0, 255), 2)\n",
    "\n",
    "# Save the output image\n",
    "output_path = os.path.splitext(image_path)[0] + '_prediction.png'\n",
    "cv2.imwrite(output_path, output_image)\n",
    "print(f\"Prediction saved to {output_path}\")\n",
    "\n",
    "# Display the input image and the output image with predictions\n",
    "plt.figure(figsize=(10, 5))\n",
    "plt.subplot(1, 2, 1)\n",
    "plt.imshow(image, cmap='gray')\n",
    "plt.title('Input Image')\n",
    "plt.axis('off')\n",
    "\n",
    "plt.subplot(1, 2, 2)\n",
    "plt.imshow(output_image)\n",
    "plt.title('Prediction Overlay')\n",
    "plt.axis('off')\n",
    "\n",
    "plt.show()\n",
    "\n",
    "if __name__ == \"__main__\":\n",
    "    if len(sys.argv) != 2:\n",
    "        print(\"Usage: python demoModel.py <path_to_image>\")\n",
    "    else:\n",
    "        main(sys.argv[1])"
   ]
  },
  {
   "cell_type": "code",
   "execution_count": null,
   "metadata": {},
   "outputs": [],
   "source": []
  }
 ],
 "metadata": {
  "kernelspec": {
   "display_name": ".venv",
   "language": "python",
   "name": "python3"
  },
  "language_info": {
   "codemirror_mode": {
    "name": "ipython",
    "version": 3
   },
   "file_extension": ".py",
   "mimetype": "text/x-python",
   "name": "python",
   "nbconvert_exporter": "python",
   "pygments_lexer": "ipython3",
   "version": "3.10.15"
  }
 },
 "nbformat": 4,
 "nbformat_minor": 2
}
