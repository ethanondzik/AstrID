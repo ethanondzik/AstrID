{
 "cells": [
  {
   "cell_type": "markdown",
   "id": "f51c6a31-0548-4f9f-b1ca-2652f2caadde",
   "metadata": {},
   "source": [
    "# **AstrID:**  *model training*"
   ]
  },
  {
   "cell_type": "code",
   "execution_count": 1,
   "id": "6d8c9b41-da1a-431e-8133-f228618ec132",
   "metadata": {
    "ExecuteTime": {
     "end_time": "2024-11-07T21:45:47.231857Z",
     "start_time": "2024-11-07T21:45:41.921531Z"
    }
   },
   "outputs": [
    {
     "name": "stderr",
     "output_type": "stream",
     "text": [
      "2024-11-17 23:24:47.090527: I tensorflow/core/platform/cpu_feature_guard.cc:182] This TensorFlow binary is optimized to use available CPU instructions in performance-critical operations.\n",
      "To enable the following instructions: AVX2 FMA, in other operations, rebuild TensorFlow with the appropriate compiler flags.\n",
      "2024-11-17 23:24:47.827214: W tensorflow/compiler/tf2tensorrt/utils/py_utils.cc:38] TF-TRT Warning: Could not find TensorRT\n"
     ]
    }
   ],
   "source": [
    "import tensorflow as tf\n",
    "from tensorflow import keras\n",
    "from tensorflow.keras import layers, models\n",
    "from tensorflow.keras.preprocessing import image\n",
    "from tensorflow.keras.initializers import he_uniform\n",
    "from sklearn.model_selection import train_test_split\n",
    "from tensorflow.keras.callbacks import EarlyStopping\n",
    "from tensorflow.keras.preprocessing.image import ImageDataGenerator\n",
    "from tensorflow.keras import backend as K\n",
    "\n",
    "import os\n",
    "import numpy as np\n",
    "import matplotlib.pyplot as plt\n",
    "import datetime\n",
    "from astropy.io import fits\n",
    "\n",
    "# Import custom functions to extract Image arrays and Pixel Mask arrays from our created fits files dataset\n",
    "from dataGathering import extractImageArray, extractPixelMaskArray, extract_star_catalog\n",
    "from dataGathering import getStarData, getImagePlot, getPixelMaskPlot\n",
    "from dataGathering import displayRawImage, displayRawPixelMask, displayImagePlot, displayPixelMaskPlot, displayPixelMaskOverlayPlot\n",
    "\n",
    "# Import custom functions to preprocess Image and Pixel Mask arrays\n",
    "from imageProcessing import normalizeImages, stackImages, stackMasks, preprocessImage\n"
   ]
  },
  {
   "cell_type": "code",
   "execution_count": 2,
   "id": "d260a505",
   "metadata": {},
   "outputs": [
    {
     "name": "stdout",
     "output_type": "stream",
     "text": [
      "Num GPUs Available:  1\n"
     ]
    },
    {
     "name": "stderr",
     "output_type": "stream",
     "text": [
      "2024-11-17 23:24:50.193770: I tensorflow/compiler/xla/stream_executor/cuda/cuda_gpu_executor.cc:981] could not open file to read NUMA node: /sys/bus/pci/devices/0000:08:00.0/numa_node\n",
      "Your kernel may have been built without NUMA support.\n",
      "2024-11-17 23:24:50.224921: I tensorflow/compiler/xla/stream_executor/cuda/cuda_gpu_executor.cc:981] could not open file to read NUMA node: /sys/bus/pci/devices/0000:08:00.0/numa_node\n",
      "Your kernel may have been built without NUMA support.\n",
      "2024-11-17 23:24:50.225008: I tensorflow/compiler/xla/stream_executor/cuda/cuda_gpu_executor.cc:981] could not open file to read NUMA node: /sys/bus/pci/devices/0000:08:00.0/numa_node\n",
      "Your kernel may have been built without NUMA support.\n"
     ]
    }
   ],
   "source": [
    "print(\"Num GPUs Available: \", len(tf.config.list_physical_devices('GPU')))"
   ]
  },
  {
   "cell_type": "code",
   "execution_count": 3,
   "id": "aa8bde07",
   "metadata": {},
   "outputs": [
    {
     "name": "stdout",
     "output_type": "stream",
     "text": [
      "GPU is available\n"
     ]
    },
    {
     "name": "stderr",
     "output_type": "stream",
     "text": [
      "2024-11-17 23:24:50.239668: I tensorflow/compiler/xla/stream_executor/cuda/cuda_gpu_executor.cc:981] could not open file to read NUMA node: /sys/bus/pci/devices/0000:08:00.0/numa_node\n",
      "Your kernel may have been built without NUMA support.\n",
      "2024-11-17 23:24:50.239937: I tensorflow/compiler/xla/stream_executor/cuda/cuda_gpu_executor.cc:981] could not open file to read NUMA node: /sys/bus/pci/devices/0000:08:00.0/numa_node\n",
      "Your kernel may have been built without NUMA support.\n",
      "2024-11-17 23:24:50.240036: I tensorflow/compiler/xla/stream_executor/cuda/cuda_gpu_executor.cc:981] could not open file to read NUMA node: /sys/bus/pci/devices/0000:08:00.0/numa_node\n",
      "Your kernel may have been built without NUMA support.\n",
      "2024-11-17 23:24:50.403380: I tensorflow/compiler/xla/stream_executor/cuda/cuda_gpu_executor.cc:981] could not open file to read NUMA node: /sys/bus/pci/devices/0000:08:00.0/numa_node\n",
      "Your kernel may have been built without NUMA support.\n",
      "2024-11-17 23:24:50.403494: I tensorflow/compiler/xla/stream_executor/cuda/cuda_gpu_executor.cc:981] could not open file to read NUMA node: /sys/bus/pci/devices/0000:08:00.0/numa_node\n",
      "Your kernel may have been built without NUMA support.\n",
      "2024-11-17 23:24:50.403503: I tensorflow/core/common_runtime/gpu/gpu_device.cc:1726] Could not identify NUMA node of platform GPU id 0, defaulting to 0.  Your kernel may not have been built with NUMA support.\n",
      "2024-11-17 23:24:50.403556: I tensorflow/compiler/xla/stream_executor/cuda/cuda_gpu_executor.cc:981] could not open file to read NUMA node: /sys/bus/pci/devices/0000:08:00.0/numa_node\n",
      "Your kernel may have been built without NUMA support.\n",
      "2024-11-17 23:24:50.403587: I tensorflow/core/common_runtime/gpu/gpu_device.cc:1639] Created device /job:localhost/replica:0/task:0/device:GPU:0 with 7537 MB memory:  -> device: 0, name: NVIDIA GeForce RTX 3080, pci bus id: 0000:08:00.0, compute capability: 8.6\n"
     ]
    }
   ],
   "source": [
    "if len(tf.config.list_physical_devices('GPU')) > 0:\n",
    "    print(\"GPU is available\")\n",
    "    \n",
    "    # Clear GPU memory\n",
    "    K.clear_session()\n",
    "    tf.config.experimental.reset_memory_stats('GPU:0')"
   ]
  },
  {
   "cell_type": "markdown",
   "id": "d039f4eb",
   "metadata": {},
   "source": [
    "### UnSu Unet Object Localization"
   ]
  },
  {
   "cell_type": "code",
   "execution_count": 4,
   "id": "a193a8ea",
   "metadata": {
    "ExecuteTime": {
     "end_time": "2024-11-07T21:46:06.321536Z",
     "start_time": "2024-11-07T21:46:06.303833Z"
    }
   },
   "outputs": [],
   "source": [
    "# Encoder path\n",
    "    #32 kernels\n",
    "    #3x3 kernel size\n",
    "    #padding = same considers edges in the input\n",
    "# Example function to create a U-Net model\n",
    "def unet_model(input_shape, filters, kernel_size, activation, padding, initializer):\n",
    "    inputs = layers.Input(input_shape)\n",
    "\n",
    "    # Encoder path\n",
    "    c1 = layers.Conv2D(filters[0], kernel_size, activation=activation, padding=padding, kernel_initializer=initializer)(inputs)\n",
    "    c1 = layers.Conv2D(filters[0], kernel_size, activation=activation, padding=padding, kernel_initializer=initializer)(c1)\n",
    "    p1 = layers.MaxPooling2D((2, 2))(c1)\n",
    "\n",
    "    c2 = layers.Conv2D(filters[1], kernel_size, activation=activation, padding=padding, kernel_initializer=initializer)(p1)\n",
    "    c2 = layers.Conv2D(filters[1], kernel_size, activation=activation, padding=padding, kernel_initializer=initializer)(c2)\n",
    "    p2 = layers.MaxPooling2D((2, 2))(c2)\n",
    "\n",
    "    c3 = layers.Conv2D(filters[2], kernel_size, activation=activation, padding=padding, kernel_initializer=initializer)(p2)\n",
    "    c3 = layers.Conv2D(filters[2], kernel_size, activation=activation, padding=padding, kernel_initializer=initializer)(c3)\n",
    "    p3 = layers.MaxPooling2D((2, 2))(c3)\n",
    "\n",
    "    c4 = layers.Conv2D(filters[3], kernel_size, activation=activation, padding=padding, kernel_initializer=initializer)(p3)\n",
    "    c4 = layers.Conv2D(filters[3], kernel_size, activation=activation, padding=padding, kernel_initializer=initializer)(c4)\n",
    "    p4 = layers.MaxPooling2D((2, 2))(c4)\n",
    "\n",
    "    c5 = layers.Conv2D(filters[4], kernel_size, activation=activation, padding=padding, kernel_initializer=initializer)(p4)\n",
    "    c5 = layers.Conv2D(filters[4], kernel_size, activation=activation, padding=padding, kernel_initializer=initializer)(c5)\n",
    "\n",
    "    # Decoder path\n",
    "    u6 = layers.Conv2DTranspose(filters[3], (2, 2), strides=(2, 2), padding=padding)(c5)\n",
    "    u6 = layers.concatenate([u6, c4])\n",
    "    c6 = layers.Conv2D(filters[3], kernel_size, activation=activation, padding=padding, kernel_initializer=initializer)(u6)\n",
    "    c6 = layers.Conv2D(filters[3], kernel_size, activation=activation, padding=padding, kernel_initializer=initializer)(c6)\n",
    "\n",
    "    u7 = layers.Conv2DTranspose(filters[2], (2, 2), strides=(2, 2), padding=padding)(c6)\n",
    "    u7 = layers.concatenate([u7, c3])\n",
    "    c7 = layers.Conv2D(filters[2], kernel_size, activation=activation, padding=padding, kernel_initializer=initializer)(u7)\n",
    "    c7 = layers.Conv2D(filters[2], kernel_size, activation=activation, padding=padding, kernel_initializer=initializer)(c7)\n",
    "\n",
    "    u8 = layers.Conv2DTranspose(filters[1], (2, 2), strides=(2, 2), padding=padding)(c7)\n",
    "    u8 = layers.concatenate([u8, c2])\n",
    "    c8 = layers.Conv2D(filters[1], kernel_size, activation=activation, padding=padding, kernel_initializer=initializer)(u8)\n",
    "    c8 = layers.Conv2D(filters[1], kernel_size, activation=activation, padding=padding, kernel_initializer=initializer)(c8)\n",
    "\n",
    "    u9 = layers.Conv2DTranspose(filters[0], (2, 2), strides=(2, 2), padding=padding)(c8)\n",
    "    u9 = layers.concatenate([u9, c1])\n",
    "    c9 = layers.Conv2D(filters[0], kernel_size, activation=activation, padding=padding, kernel_initializer=initializer)(u9)\n",
    "    c9 = layers.Conv2D(filters[0], kernel_size, activation=activation, padding=padding, kernel_initializer=initializer)(c9)\n",
    "\n",
    "    outputs = layers.Conv2D(1, (1, 1), activation='sigmoid')(c9)\n",
    "\n",
    "    model = models.Model(inputs=[inputs], outputs=[outputs])\n",
    "\n",
    "    return model"
   ]
  },
  {
   "cell_type": "code",
   "execution_count": 5,
   "id": "5b75e80c",
   "metadata": {},
   "outputs": [],
   "source": [
    "# getStarData('II/246', 250, 'data')"
   ]
  },
  {
   "cell_type": "code",
   "execution_count": 6,
   "id": "e0ad1a6c",
   "metadata": {
    "ExecuteTime": {
     "end_time": "2024-11-07T21:46:21.717210Z",
     "start_time": "2024-11-07T21:46:10.783249Z"
    }
   },
   "outputs": [
    {
     "name": "stdout",
     "output_type": "stream",
     "text": [
      "data47.fits added to dataset\n",
      "data8.fits added to dataset\n",
      "data93.fits added to dataset\n",
      "data202.fits added to dataset\n",
      "data79.fits added to dataset\n",
      "data116.fits added to dataset\n",
      "data187.fits added to dataset\n",
      "data100.fits added to dataset\n",
      "data10.fits added to dataset\n",
      "data91.fits added to dataset\n",
      "data34.fits added to dataset\n",
      "data117.fits added to dataset\n",
      "data148.fits added to dataset\n",
      "data107.fits added to dataset\n",
      "data38.fits added to dataset\n",
      "data134.fits added to dataset\n",
      "data238.fits added to dataset\n",
      "data136.fits added to dataset\n",
      "data5.fits added to dataset\n",
      "data189.fits added to dataset\n",
      "data33.fits added to dataset\n",
      "data223.fits added to dataset\n",
      "data162.fits added to dataset\n",
      "data13.fits added to dataset\n",
      "data28.fits added to dataset\n",
      "data208.fits added to dataset\n",
      "data118.fits added to dataset\n",
      "data197.fits added to dataset\n",
      "data143.fits added to dataset\n",
      "data178.fits added to dataset\n",
      "data102.fits added to dataset\n",
      "data200.fits added to dataset\n",
      "data129.fits added to dataset\n",
      "data174.fits added to dataset\n",
      "data211.fits added to dataset\n",
      "data239.fits added to dataset\n",
      "data210.fits added to dataset\n",
      "data175.fits added to dataset\n",
      "data11.fits added to dataset\n",
      "data59.fits added to dataset\n",
      "data138.fits added to dataset\n",
      "data112.fits added to dataset\n",
      "data226.fits added to dataset\n",
      "data170.fits added to dataset\n",
      "data42.fits added to dataset\n",
      "data180.fits added to dataset\n",
      "data214.fits added to dataset\n",
      "data236.fits added to dataset\n",
      "data26.fits added to dataset\n",
      "data145.fits added to dataset\n",
      "data206.fits added to dataset\n",
      "data179.fits added to dataset\n",
      "data201.fits added to dataset\n",
      "data40.fits added to dataset\n",
      "data161.fits added to dataset\n",
      "data157.fits added to dataset\n",
      "data246.fits added to dataset\n",
      "data217.fits added to dataset\n",
      "data82.fits added to dataset\n",
      "data141.fits added to dataset\n",
      "data151.fits added to dataset\n",
      "data71.fits added to dataset\n",
      "data231.fits added to dataset\n",
      "data125.fits added to dataset\n",
      "data204.fits added to dataset\n",
      "data126.fits added to dataset\n",
      "data92.fits added to dataset\n",
      "data57.fits added to dataset\n",
      "data58.fits added to dataset\n",
      "data212.fits added to dataset\n",
      "data27.fits added to dataset\n",
      "data21.fits added to dataset\n",
      "data137.fits added to dataset\n",
      "data19.fits added to dataset\n",
      "data90.fits added to dataset\n",
      "data213.fits added to dataset\n",
      "data183.fits added to dataset\n",
      "data142.fits added to dataset\n",
      "data46.fits added to dataset\n",
      "data132.fits added to dataset\n",
      "data88.fits added to dataset\n",
      "data98.fits added to dataset\n",
      "data154.fits added to dataset\n",
      "data173.fits added to dataset\n",
      "data63.fits added to dataset\n",
      "data182.fits added to dataset\n",
      "data123.fits added to dataset\n",
      "data133.fits added to dataset\n",
      "data144.fits added to dataset\n",
      "data171.fits added to dataset\n",
      "data23.fits added to dataset\n",
      "data245.fits added to dataset\n",
      "data96.fits added to dataset\n",
      "data244.fits added to dataset\n",
      "data232.fits added to dataset\n",
      "data37.fits added to dataset\n",
      "data228.fits added to dataset\n",
      "data16.fits added to dataset\n",
      "data61.fits added to dataset\n",
      "data215.fits added to dataset\n",
      "data106.fits added to dataset\n",
      "data17.fits added to dataset\n",
      "data227.fits added to dataset\n",
      "data105.fits added to dataset\n",
      "data56.fits added to dataset\n",
      "data185.fits added to dataset\n",
      "data188.fits added to dataset\n",
      "data108.fits added to dataset\n",
      "data24.fits added to dataset\n",
      "data124.fits added to dataset\n",
      "data222.fits added to dataset\n",
      "data186.fits added to dataset\n",
      "data158.fits added to dataset\n",
      "data66.fits added to dataset\n",
      "data12.fits added to dataset\n",
      "data121.fits added to dataset\n",
      "data76.fits added to dataset\n",
      "data68.fits added to dataset\n",
      "data240.fits added to dataset\n",
      "data165.fits added to dataset\n",
      "data190.fits added to dataset\n",
      "data198.fits added to dataset\n",
      "data103.fits added to dataset\n",
      "data184.fits added to dataset\n",
      "data219.fits added to dataset\n",
      "data52.fits added to dataset\n",
      "data99.fits added to dataset\n",
      "data43.fits added to dataset\n",
      "data51.fits added to dataset\n",
      "data84.fits added to dataset\n",
      "data249.fits added to dataset\n",
      "data70.fits added to dataset\n",
      "data7.fits added to dataset\n",
      "data97.fits added to dataset\n",
      "data45.fits added to dataset\n",
      "data35.fits added to dataset\n",
      "data3.fits added to dataset\n",
      "data36.fits added to dataset\n",
      "data160.fits added to dataset\n",
      "data159.fits added to dataset\n",
      "data176.fits added to dataset\n",
      "data6.fits added to dataset\n",
      "data14.fits added to dataset\n",
      "data25.fits added to dataset\n",
      "data65.fits added to dataset\n",
      "data20.fits added to dataset\n",
      "data1.fits added to dataset\n",
      "data209.fits added to dataset\n",
      "data104.fits added to dataset\n",
      "data114.fits added to dataset\n",
      "data30.fits added to dataset\n",
      "data229.fits added to dataset\n",
      "data230.fits added to dataset\n",
      "data130.fits added to dataset\n",
      "data205.fits added to dataset\n",
      "data111.fits added to dataset\n",
      "data193.fits added to dataset\n",
      "data146.fits added to dataset\n",
      "data41.fits added to dataset\n",
      "data15.fits added to dataset\n",
      "data31.fits added to dataset\n",
      "data83.fits added to dataset\n",
      "data89.fits added to dataset\n",
      "data109.fits added to dataset\n",
      "data135.fits added to dataset\n",
      "data164.fits added to dataset\n",
      "data199.fits added to dataset\n",
      "data115.fits added to dataset\n",
      "data218.fits added to dataset\n",
      "data49.fits added to dataset\n",
      "data18.fits added to dataset\n",
      "data131.fits added to dataset\n",
      "data203.fits added to dataset\n",
      "data149.fits added to dataset\n",
      "data120.fits added to dataset\n",
      "data67.fits added to dataset\n",
      "data224.fits added to dataset\n",
      "data32.fits added to dataset\n",
      "data113.fits added to dataset\n",
      "data22.fits added to dataset\n",
      "data168.fits added to dataset\n",
      "data128.fits added to dataset\n",
      "data48.fits added to dataset\n",
      "data101.fits added to dataset\n",
      "data0.fits added to dataset\n",
      "data248.fits added to dataset\n",
      "data60.fits added to dataset\n",
      "data234.fits added to dataset\n",
      "data87.fits added to dataset\n",
      "data166.fits added to dataset\n",
      "data81.fits added to dataset\n",
      "data247.fits added to dataset\n",
      "data140.fits added to dataset\n",
      "data172.fits added to dataset\n",
      "data241.fits added to dataset\n",
      "data2.fits added to dataset\n",
      "data237.fits added to dataset\n",
      "data95.fits added to dataset\n",
      "data44.fits added to dataset\n",
      "data64.fits added to dataset\n",
      "data191.fits added to dataset\n",
      "data194.fits added to dataset\n",
      "data74.fits added to dataset\n",
      "data9.fits added to dataset\n",
      "data119.fits added to dataset\n",
      "data216.fits added to dataset\n",
      "data69.fits added to dataset\n",
      "data181.fits added to dataset\n",
      "data156.fits added to dataset\n",
      "data243.fits added to dataset\n",
      "data220.fits added to dataset\n",
      "data150.fits added to dataset\n",
      "data110.fits added to dataset\n",
      "data77.fits added to dataset\n",
      "data207.fits added to dataset\n",
      "data155.fits added to dataset\n",
      "data4.fits added to dataset\n",
      "data78.fits added to dataset\n",
      "data147.fits added to dataset\n",
      "data235.fits added to dataset\n",
      "data163.fits added to dataset\n",
      "data29.fits added to dataset\n",
      "data242.fits added to dataset\n",
      "data167.fits added to dataset\n",
      "data50.fits added to dataset\n",
      "data94.fits added to dataset\n",
      "data62.fits added to dataset\n",
      "data152.fits added to dataset\n",
      "data122.fits added to dataset\n",
      "data39.fits added to dataset\n",
      "data195.fits added to dataset\n",
      "data53.fits added to dataset\n",
      "data192.fits added to dataset\n",
      "data72.fits added to dataset\n",
      "data73.fits added to dataset\n",
      "data233.fits added to dataset\n",
      "data177.fits added to dataset\n",
      "data127.fits added to dataset\n",
      "data54.fits added to dataset\n",
      "data169.fits added to dataset\n",
      "data153.fits added to dataset\n",
      "data196.fits added to dataset\n",
      "data80.fits added to dataset\n",
      "data139.fits added to dataset\n",
      "data85.fits added to dataset\n",
      "data221.fits added to dataset\n",
      "data225.fits added to dataset\n",
      "data55.fits added to dataset\n",
      "data75.fits added to dataset\n",
      "data86.fits added to dataset\n"
     ]
    }
   ],
   "source": [
    "# Create images and masks arrays lists\n",
    "images = []\n",
    "masks = []\n",
    "\n",
    "# Create df to store the star data inside each fits file\n",
    "star_data = []\n",
    "\n",
    "# Create a list of all the fits files in the dataset folder\n",
    "fits_files = os.listdir('data/fits/')\n",
    "\n",
    "# For all the fits files in the dataset folder specified in file_path, extract the image and mask arrays to the respective lists\n",
    "file_path = 'data/fits/'\n",
    "# for file in os.listdir(file_path):\n",
    "for file in os.listdir(file_path):\n",
    "    if file.endswith('.png'):\n",
    "        os.remove(file_path + file)\n",
    "    if file.startswith('data') and file.endswith('.fits'):\n",
    "        images.append(extractImageArray(file_path + file))\n",
    "        masks.append(extractPixelMaskArray(file_path + file))\n",
    "        star_data.append(extract_star_catalog(file_path + file))\n",
    "\n",
    "        print(file + ' added to dataset')"
   ]
  },
  {
   "cell_type": "markdown",
   "id": "803fd51f",
   "metadata": {},
   "source": [
    "# Prepare the data for training"
   ]
  },
  {
   "cell_type": "markdown",
   "id": "c650532b",
   "metadata": {},
   "source": [
    "### Convert to 3-Channel Images\n",
    "\n",
    "The images we have are 512 x 512 pixels, but our model requires them to be in the shape `(512, 512, 3)`, similar to standard RGB images. To achieve this, we stack the single-channel images along the last axis three times, converting them into 3-channel images. This transformation is necessary because the model typically expects 3-channel input images.\n",
    "\n",
    "For the masks, the model expects them to be in the shape `(512, 512, 1)`. Therefore, we expand the masks along the last axis to add a new dimension, ensuring they have the correct shape.\n",
    "\n",
    "Additionally, both the images and masks need to be converted to NumPy arrays, as this is the desired format for the training model. Below, we perform these conversions to ensure the data is in the correct format for training.\n",
    "\n",
    "Notice when displaying the shape of the `train_images` list below we see it is an array of 250 images of the shape mentioned above, giving us a shape `(250, 512, 512, 3)`"
   ]
  },
  {
   "cell_type": "code",
   "execution_count": 7,
   "id": "4eee6f72",
   "metadata": {
    "ExecuteTime": {
     "end_time": "2024-11-07T21:47:07.049121Z",
     "start_time": "2024-11-07T21:47:02.545187Z"
    }
   },
   "outputs": [
    {
     "name": "stdout",
     "output_type": "stream",
     "text": [
      "masks:\n",
      "images\n"
     ]
    },
    {
     "data": {
      "text/plain": [
       "(250, 512, 512, 3)"
      ]
     },
     "execution_count": 7,
     "metadata": {},
     "output_type": "execute_result"
    }
   ],
   "source": [
    "stacked_images = stackImages(images)\n",
    "stacked_masks = stackMasks(masks)\n",
    "print(\"masks:\")\n",
    "stacked_masks.shape\n",
    "print(\"images\")\n",
    "stacked_images.shape"
   ]
  },
  {
   "cell_type": "markdown",
   "id": "9801c4f0",
   "metadata": {},
   "source": [
    "### Normalize the Images\n",
    "\n",
    "To standardize the pixel values in our images, we need to normalize them to a common range.\n",
    "We will use min-max normalization to scale the pixel values to a range between 0.0 and 1.0."
   ]
  },
  {
   "cell_type": "code",
   "execution_count": 8,
   "id": "1ce79b4f",
   "metadata": {
    "ExecuteTime": {
     "end_time": "2024-11-07T21:47:11.885224Z",
     "start_time": "2024-11-07T21:47:09.963100Z"
    }
   },
   "outputs": [],
   "source": [
    "# stacked_images = normalizeImages(stacked_images)"
   ]
  },
  {
   "cell_type": "markdown",
   "id": "090f855b",
   "metadata": {},
   "source": [
    "###  Prepare the model for training\n"
   ]
  },
  {
   "cell_type": "code",
   "execution_count": 9,
   "id": "2de6546f-3c02-4d69-bb5b-0a968da6c3c8",
   "metadata": {
    "ExecuteTime": {
     "end_time": "2024-11-07T21:54:13.566824Z",
     "start_time": "2024-11-07T21:54:13.539322Z"
    }
   },
   "outputs": [],
   "source": [
    "#ryans attempt at weighted cross entropy\n",
    "\n",
    "@keras.saving.register_keras_serializable()\n",
    "def weighted_binary_crossentropy(weights):\n",
    "    \"\"\"\n",
    "    Custom loss function for binary cross-entropy with class weights.\n",
    "    Args:\n",
    "    - weights: A list or tuple of weights, where:\n",
    "        - weights[0] is the weight for the background class (class 0)\n",
    "        - weights[1] is the weight for the foreground class (class 1)\n",
    "    \"\"\"\n",
    "    def loss(y_true, y_pred):\n",
    "        # Convert inputs to float32 for numerical stability\n",
    "        y_true = tf.cast(y_true, tf.float32)\n",
    "        y_pred = tf.cast(y_pred, tf.float32)\n",
    "        \n",
    "        # Ensure y_true and y_pred have the same shape\n",
    "        if len(y_true.shape) != len(y_pred.shape):\n",
    "            y_true = tf.expand_dims(y_true, axis=-1)\n",
    "        \n",
    "        # Clip prediction values to avoid log(0)\n",
    "        epsilon = tf.keras.backend.epsilon()\n",
    "        y_pred = tf.clip_by_value(y_pred, epsilon, 1 - epsilon)\n",
    "        \n",
    "        # Compute binary cross-entropy manually to maintain tensor shapes\n",
    "        bce = -(y_true * tf.math.log(y_pred) + (1 - y_true) * tf.math.log(1 - y_pred))\n",
    "        \n",
    "        # Create weight map with same shape as input\n",
    "        weight_map = y_true * weights[1] + (1 - y_true) * weights[0]\n",
    "        \n",
    "        # Ensure weight_map has the same shape as bce for multiplication\n",
    "        if weight_map.shape != bce.shape:\n",
    "            weight_map = tf.broadcast_to(weight_map, bce.shape)\n",
    "            \n",
    "        # Apply the weight map to the binary cross-entropy loss\n",
    "        weighted_bce = weight_map * bce\n",
    "        \n",
    "        # Return the mean of the weighted binary cross-entropy\n",
    "        return tf.reduce_mean(weighted_bce)\n",
    "    \n",
    "    return loss\n",
    "\n"
   ]
  },
  {
   "cell_type": "code",
   "execution_count": 10,
   "id": "ee7cbedb-1913-4947-803f-b58da5d29803",
   "metadata": {
    "ExecuteTime": {
     "end_time": "2024-11-07T21:54:15.588201Z",
     "start_time": "2024-11-07T21:54:15.573603Z"
    }
   },
   "outputs": [],
   "source": [
    "class_weights = [5.0, 1.0]"
   ]
  },
  {
   "cell_type": "code",
   "execution_count": 11,
   "id": "8beae7fb",
   "metadata": {
    "ExecuteTime": {
     "end_time": "2024-11-07T21:54:17.995728Z",
     "start_time": "2024-11-07T21:54:17.265232Z"
    }
   },
   "outputs": [],
   "source": [
    "#############################################\n",
    "\n",
    "# Define the base exponent - Change this number to increase or decrease the number of filters by a power of 2\n",
    "base_exponent = 5\n",
    "#############################################\n",
    "# base_exponent = 5, so filters result in [32, 64, 128, 256, 512], this was the original value\n",
    "# base_exponent = 6, so filters result in [64, 128, 256, 512, 1024]\n",
    "# base_exponent = 7, so filters result in [128, 256, 512, 1024, 2048]\n",
    "# base_exponent = 8, so filters result in [256, 512, 1024, 2048, 4096]\n",
    "# base_exponent = 9, so filters result in [512, 1024, 2048, 4096, 8192]\n",
    "# base_exponent = 10, so filters result in [1024, 2048, 4096, 8192, 16384]\n",
    "\n",
    "# Generate the filters based on powers of 2\n",
    "filters = [2 ** (base_exponent + i) for i in range(5)]\n",
    "#############################################\n",
    "# This list comprehension generates the filter sizes by raising 2 to the powers starting from the base exponent and increasing by 1 for each subsequent filter.\n",
    "#############################################\n",
    "\n",
    "# Define hyperparameters\n",
    "hyperparameters = {\n",
    "    'input_shape': (512, 512, 3),\n",
    "    'filters': filters,\n",
    "    'kernel_size': (3, 3),\n",
    "    'activation': 'relu',\n",
    "    'padding': 'same',\n",
    "    # 'initializer': he_uniform(),\n",
    "    'initializer': he_uniform,\n",
    "    'optimizer': 'adam',\n",
    "    # 'loss': weightedBinaryCrossEntropy,\n",
    "    'loss': 'binary_crossentropy',\n",
    "    #'weights' : {0 : 1.0, 1 : 5.0},\n",
    "    'weights': class_weights,\n",
    "    'metrics': ['accuracy'],\n",
    "    'epochs': 100,\n",
    "    'batch_size': 4,\n",
    "    'early_stopping_patience': 10,\n",
    "    'test_size': 0.2,\n",
    "    'random_state': 0,\n",
    "    'seed': 42\n",
    "}\n",
    "#ryans attempt at defining weights\n",
    "class_weights = [hyperparameters['weights'][0], hyperparameters['weights'][1]]\n",
    "\n",
    "# Create and compile the model using hyperparameters\n",
    "model = unet_model(\n",
    "    input_shape=hyperparameters['input_shape'],\n",
    "    filters=hyperparameters['filters'],\n",
    "    kernel_size=hyperparameters['kernel_size'],\n",
    "    activation=hyperparameters['activation'],\n",
    "    padding=hyperparameters['padding'],\n",
    "    initializer=hyperparameters['initializer']\n",
    ")\n",
    "model.compile(\n",
    "    optimizer=hyperparameters['optimizer'],\n",
    "    #loss=hyperparameters['loss'],\n",
    "    loss=weighted_binary_crossentropy(class_weights),\n",
    "    metrics=hyperparameters['metrics']\n",
    ")"
   ]
  },
  {
   "cell_type": "markdown",
   "id": "8932a853",
   "metadata": {},
   "source": [
    "**Create Generators for Training and Validation**:\n",
    "   - Use the `flow` method to create generators for training and validation images and masks.\n",
    "   - Ensure that the `seed` parameter is the same for both image and mask generators to maintain alignment.\n",
    "\n",
    " **Custom Generator**:\n",
    "   - Define a custom generator function `custom_generator` that yields a tuple (images, masks, sample_weights)."
   ]
  },
  {
   "cell_type": "code",
   "execution_count": 12,
   "id": "af76ee83",
   "metadata": {
    "ExecuteTime": {
     "end_time": "2024-11-07T21:54:24.772642Z",
     "start_time": "2024-11-07T21:54:22.350220Z"
    }
   },
   "outputs": [],
   "source": [
    "# Split the dataset into training and validation sets\n",
    "train_images, val_images, train_masks, val_masks = train_test_split(stacked_images, stacked_masks, test_size=hyperparameters['test_size'], random_state=hyperparameters['random_state'])"
   ]
  },
  {
   "cell_type": "code",
   "execution_count": 13,
   "id": "798ff170",
   "metadata": {
    "ExecuteTime": {
     "end_time": "2024-11-07T21:54:27.669156Z",
     "start_time": "2024-11-07T21:54:27.663320Z"
    }
   },
   "outputs": [
    {
     "name": "stdout",
     "output_type": "stream",
     "text": [
      "Training images:  (200, 512, 512, 3)\n",
      "Training masks:  (200, 512, 512, 1)\n",
      "Validation images:  (50, 512, 512, 3)\n",
      "Validation masks:  (50, 512, 512, 1)\n"
     ]
    }
   ],
   "source": [
    "# Show distribution of training and validation sets\n",
    "print('Training images: ', train_images.shape)\n",
    "print('Training masks: ', train_masks.shape)\n",
    "print('Validation images: ', val_images.shape)\n",
    "print('Validation masks: ', val_masks.shape)"
   ]
  },
  {
   "cell_type": "markdown",
   "id": "5a7f8de9",
   "metadata": {},
   "source": [
    "# Train the model"
   ]
  },
  {
   "cell_type": "code",
   "execution_count": 14,
   "id": "851767c9",
   "metadata": {
    "ExecuteTime": {
     "end_time": "2024-11-07T22:33:04.858705Z",
     "start_time": "2024-11-07T21:54:32.318711Z"
    }
   },
   "outputs": [
    {
     "name": "stdout",
     "output_type": "stream",
     "text": [
      "Train Images Shape:  (200, 512, 512, 3)\n",
      "Train Masks Shape:  (200, 512, 512, 1)\n",
      "Validation Images Shape:  (50, 512, 512, 3)\n",
      "Validation Masks Shape:  (50, 512, 512, 1)\n",
      "Epoch 1/100\n"
     ]
    },
    {
     "name": "stderr",
     "output_type": "stream",
     "text": [
      "2024-11-17 23:24:59.339688: I tensorflow/compiler/xla/stream_executor/cuda/cuda_dnn.cc:432] Loaded cuDNN version 8600\n",
      "2024-11-17 23:25:00.624876: I tensorflow/compiler/xla/service/service.cc:168] XLA service 0x7efb42679710 initialized for platform CUDA (this does not guarantee that XLA will be used). Devices:\n",
      "2024-11-17 23:25:00.624943: I tensorflow/compiler/xla/service/service.cc:176]   StreamExecutor device (0): NVIDIA GeForce RTX 3080, Compute Capability 8.6\n",
      "2024-11-17 23:25:00.632256: I tensorflow/compiler/mlir/tensorflow/utils/dump_mlir_util.cc:255] disabling MLIR crash reproducer, set env var `MLIR_CRASH_REPRODUCER_DIRECTORY` to enable.\n",
      "2024-11-17 23:25:00.738384: I ./tensorflow/compiler/jit/device_compiler.h:186] Compiled cluster using XLA!  This line is logged at most once for the lifetime of the process.\n"
     ]
    },
    {
     "name": "stdout",
     "output_type": "stream",
     "text": [
      "50/50 [==============================] - 18s 122ms/step - loss: 2.3401 - accuracy: 0.9662 - val_loss: 0.0803 - val_accuracy: 0.9950\n",
      "Epoch 2/100\n",
      "50/50 [==============================] - 5s 101ms/step - loss: 0.0915 - accuracy: 0.9943 - val_loss: 0.0803 - val_accuracy: 0.9950\n",
      "Epoch 3/100\n",
      "50/50 [==============================] - 5s 101ms/step - loss: 0.0915 - accuracy: 0.9943 - val_loss: 0.0803 - val_accuracy: 0.9950\n",
      "Epoch 4/100\n",
      "50/50 [==============================] - 3s 49ms/step - loss: 0.0915 - accuracy: 0.9943 - val_loss: 0.0803 - val_accuracy: 0.9950\n",
      "Epoch 5/100\n",
      "50/50 [==============================] - 5s 99ms/step - loss: 0.0915 - accuracy: 0.9943 - val_loss: 0.0803 - val_accuracy: 0.9950\n",
      "Epoch 6/100\n",
      "50/50 [==============================] - 5s 100ms/step - loss: 0.0915 - accuracy: 0.9943 - val_loss: 0.0803 - val_accuracy: 0.9950\n",
      "Epoch 7/100\n",
      "50/50 [==============================] - 5s 102ms/step - loss: 0.0915 - accuracy: 0.9943 - val_loss: 0.0803 - val_accuracy: 0.9950\n",
      "Epoch 8/100\n",
      "50/50 [==============================] - 5s 99ms/step - loss: 0.0915 - accuracy: 0.9943 - val_loss: 0.0803 - val_accuracy: 0.9950\n",
      "Epoch 9/100\n",
      "50/50 [==============================] - 5s 100ms/step - loss: 0.0915 - accuracy: 0.9943 - val_loss: 0.0803 - val_accuracy: 0.9950\n",
      "Epoch 10/100\n",
      "50/50 [==============================] - 5s 97ms/step - loss: 0.0915 - accuracy: 0.9943 - val_loss: 0.0803 - val_accuracy: 0.9950\n",
      "Epoch 11/100\n",
      "50/50 [==============================] - 3s 51ms/step - loss: 0.0915 - accuracy: 0.9943 - val_loss: 0.0803 - val_accuracy: 0.9950\n"
     ]
    }
   ],
   "source": [
    "from sklearn.utils import class_weight\n",
    "\n",
    "# Implement Early stopping to cut useless epochs\n",
    "early_stopping = EarlyStopping(\n",
    "    monitor='val_loss',  # or another metric like 'val_accuracy'\n",
    "    patience=hyperparameters['early_stopping_patience'],         # Number of epochs with no improvement before stopping\n",
    "    restore_best_weights=True  # Restores the model to the best state after stopping\n",
    ")\n",
    "\n",
    "# Check the shapes of the input data\n",
    "print(\"Train Images Shape: \", train_images.shape)  # Should be (batch_size, 512, 512, 3)\n",
    "print(\"Train Masks Shape: \", train_masks.shape)  # Should be (batch_size, 512, 512, 1)\n",
    "\n",
    "# Check the shapes of the validation data\n",
    "print(\"Validation Images Shape: \", val_images.shape)  # Should be (batch_size, 512, 512, 3)\n",
    "print(\"Validation Masks Shape: \", val_masks.shape)  # Should be (batch_size, 512, 512, 1)\n",
    "\n",
    "\n",
    "# # Train the model\n",
    "history = model.fit(\n",
    "     train_images, train_masks, \n",
    "     validation_data=(val_images, val_masks), \n",
    "     epochs=hyperparameters['epochs'], \n",
    "     batch_size=hyperparameters['batch_size'],\n",
    "     callbacks=[early_stopping],\n",
    " )"
   ]
  },
  {
   "cell_type": "code",
   "execution_count": 15,
   "id": "dd42b3c5",
   "metadata": {},
   "outputs": [],
   "source": [
    "# Save the model\n",
    "saved_models_path = 'models/saved_models/'\n",
    "training_size = str(len(train_images))\n",
    "saved_model_name = datetime.datetime.now().strftime(\"%Y_%m_%d-%H%M_\") + training_size + '_unet_model.keras'\n",
    "model.save(saved_models_path + saved_model_name)"
   ]
  },
  {
   "cell_type": "code",
   "execution_count": 16,
   "id": "a9056adf",
   "metadata": {},
   "outputs": [
    {
     "name": "stdout",
     "output_type": "stream",
     "text": [
      "Training loss:  0.09148108214139938\n",
      "Validation loss:  0.08030083775520325\n",
      "Training accuracy:  0.9943243265151978\n",
      "Validation accuracy:  0.9950180053710938\n"
     ]
    }
   ],
   "source": [
    "# Show training loss and validation loss\n",
    "print('Training loss: ', history.history['loss'][-1])\n",
    "print('Validation loss: ', history.history['val_loss'][-1])\n",
    "\n",
    "# Show training accuracy and validation accuracy\n",
    "print('Training accuracy: ', history.history['accuracy'][-1])\n",
    "print('Validation accuracy: ', history.history['val_accuracy'][-1])"
   ]
  },
  {
   "cell_type": "code",
   "execution_count": 17,
   "id": "b431a9f0",
   "metadata": {},
   "outputs": [
    {
     "data": {
      "image/png": "[encoded data removed]",
      "text/plain": [
       "<Figure size 2400x600 with 2 Axes>"
      ]
     },
     "metadata": {},
     "output_type": "display_data"
    }
   ],
   "source": [
    "# Plot training & validation accuracy values\n",
    "plt.figure(figsize=(24, 6))\n",
    "plt.subplot(1, 2, 1)\n",
    "plt.plot(history.history['accuracy'])\n",
    "plt.plot(history.history['val_accuracy'])\n",
    "plt.title('Model accuracy')\n",
    "plt.ylabel('Accuracy')\n",
    "plt.xlabel('Epoch')\n",
    "plt.legend(['Train', 'Validation'], loc='upper left')\n",
    "\n",
    "# Plot training & validation loss values\n",
    "plt.subplot(1, 2, 2)\n",
    "plt.plot(history.history['loss'])\n",
    "plt.plot(history.history['val_loss'])\n",
    "plt.title('Model loss')\n",
    "plt.ylabel('Loss')\n",
    "plt.xlabel('Epoch')\n",
    "plt.legend(['Train', 'Validation'], loc='upper left')\n",
    "\n",
    "plt.tight_layout()\n",
    "# plt.savefig('results/figures/' + saved_model_name.removesuffix('unet_model.keras') + '_training_validation.png')\n",
    "plt.show()"
   ]
  },
  {
   "cell_type": "code",
   "execution_count": 18,
   "id": "322ff4ef-a8b3-4b9f-af7b-cdf0c5437e2f",
   "metadata": {},
   "outputs": [
    {
     "data": {
      "image/png": "[encoded data removed]",
      "text/plain": [
       "<Figure size 2000x1000 with 1 Axes>"
      ]
     },
     "metadata": {},
     "output_type": "display_data"
    }
   ],
   "source": [
    "# Set a larger figure size\n",
    "plt.figure(figsize=(20, 10))\n",
    "\n",
    "# Plot the training and validation loss\n",
    "plt.plot(history.history['loss'], color='blue', linestyle='-', linewidth=2, label='Training Loss')\n",
    "plt.plot(history.history['val_loss'], color='orange', linestyle='--', linewidth=2, label='Validation Loss')\n",
    "\n",
    "# Add title and labels\n",
    "plt.title('Training and Validation Loss Over Epochs', fontsize=16)\n",
    "plt.xlabel('Epochs', fontsize=14)\n",
    "plt.ylabel('Loss', fontsize=14)\n",
    "\n",
    "# Add a grid for better readability\n",
    "plt.grid(True, which='both', linestyle='--', linewidth=0.5)\n",
    "\n",
    "# Add legend to differentiate between training and validation loss\n",
    "plt.legend(loc='best', fontsize=12)\n",
    "\n",
    "# Set limits for better visualization\n",
    "plt.xlim(0, len(history.history['loss']) - 1)  # From epoch 0 to the last epoch\n",
    "plt.ylim(min(history.history['loss']) * 0.95, max(history.history['val_loss']) * 1.05)\n",
    "\n",
    "# Show the plot\n",
    "plt.tight_layout()\n",
    "# plt.savefig('results/figures/' + saved_model_name.removesuffix('unet_model.keras') + '_training_validation_loss.png')\n",
    "plt.show()\n"
   ]
  }
 ],
 "metadata": {
  "kernelspec": {
   "display_name": ".venv",
   "language": "python",
   "name": "python3"
  },
  "language_info": {
   "codemirror_mode": {
    "name": "ipython",
    "version": 3
   },
   "file_extension": ".py",
   "mimetype": "text/x-python",
   "name": "python",
   "nbconvert_exporter": "python",
   "pygments_lexer": "ipython3",
   "version": "3.10.15"
  }
 },
 "nbformat": 4,
 "nbformat_minor": 5
}
